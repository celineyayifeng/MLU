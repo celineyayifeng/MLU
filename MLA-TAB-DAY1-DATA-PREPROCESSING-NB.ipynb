{
 "cells": [
  {
   "cell_type": "markdown",
   "metadata": {},
   "source": [
    "![MLU Logo](https://drive.corp.amazon.com/view/bwernes@/MLU_Logo.png?download=true)"
   ]
  },
  {
   "cell_type": "markdown",
   "metadata": {},
   "source": [
    "# <a name=\"0\">Machine Learning Accelerator - Tabular Data - Lecture 1</a>\n",
    "\n",
    "## Data Processing\n",
    "\n",
    "### Sample Problem: Detecting Products with Electrical Plugs in Amazon Marketplace Products\n",
    "\n",
    "In this [Jupiter notebook](https://jupyter-notebook-beginner-guide.readthedocs.io/en/latest/what_is_jupyter.html) (*), we explore an Amazonian dataset. In some marketplaces, ASINs having electrical plugs need to be accompanied by a compliance form. Thus it is desirable to identify ASINs with an electrical plug.\n",
    "\n",
    "1. <a href=\"#1\">Read the dataset</a>\n",
    "\n",
    "2. <a href=\"#2\">Exploratory data analysis (EDA)</a>\n",
    "    * <a href=\"#21\">Overall Statistics</a>\n",
    "    * <a href=\"#22\">Univariate Statistics: Basic Plots</a>\n",
    "    * <a href=\"#23\">Multivariate Statistics: Scatter Plots and Correlations</a>\n",
    "    \n",
    "    \n",
    "3. <a href=\"#3\">Train - Validation - Test Datasets </a>\n",
    "\n",
    "4. <a href=\"#4\">Handling Imbalanced Datasets</a>\n",
    "\n",
    "5. <a href=\"#5\">Handling Missing Values</a>\n",
    "    * <a href=\"#51\">Drop columns with missing values</a>\n",
    "    * <a href=\"#52\">Drop rows with missing values</a>\n",
    "    * <a href=\"#53\"> Impute missing values with .fillna()</a>\n",
    "    * <a href=\"#54\"> Impute missing values with sklearn's SimpleImputer</a> (preferred)\n",
    "    \n",
    "    \n",
    "    \n",
    "__Data schema:__ \n",
    "- __ASIN__: Product ASIN\n",
    "- __target_label:__ Binary field with values in {0,1}. A value of 1 show ASIN has a plug, otherwise 0.\n",
    "- __ASIN_STATIC_ITEM_NAME:__ Title of the ASIN.\n",
    "- __ASIN_STATIC_PRODUCT_DESCRIPTION:__ Description of the ASIN\n",
    "- __ASIN_STATIC_GL_PRODUCT_GROUP_TYPE:__ GL information for the ASIN.\n",
    "- __ASIN_STATIC_ITEM_PACKAGE_WEIGHT:__ Weight of the ASIN.\n",
    "- __ASIN_STATIC_LIST_PRICE:__ Price information for the ASIN.\n",
    "- __ASIN_STATIC_BATTERIES_INCLUDED:__ Information whether batteries are included along with the product.\n",
    "- __ASIN_STATIC_BATTERIES_REQUIRED:__ Information whether batteries are required for using the product.\n",
    "- __ASIN_STATIC_ITEM_CLASSIFICATION:__ Item classification of whether it is a standalone or bundle parent item etc"
   ]
  },
  {
   "cell_type": "markdown",
   "metadata": {},
   "source": [
    "(*) __Jupiter notebooks environment__: \n",
    "* [Jupiter notebooks](https://jupyter-notebook-beginner-guide.readthedocs.io/en/latest/what_is_jupyter.html) allow creating and sharing documents that contain both code and rich text element, such as equations. \n",
    "* This is a quick-start demo to bring you up to speed on coding and experimenting with machine learning. Move through the notebook from top to bottom. Run each code cell to see its output. To run a cell, click within the cell and press __Shift__+__Enter__, or click __Run__ at the top of the page. "
   ]
  },
  {
   "cell_type": "markdown",
   "metadata": {},
   "source": [
    "## 1. <a name=\"1\">Read the datasets</a>\n",
    "(<a href=\"#0\">Go to top</a>)"
   ]
  },
  {
   "cell_type": "markdown",
   "metadata": {},
   "source": [
    "Let's read the dataset into a dataframe, using [Pandas](https://pandas.pydata.org/pandas-docs/stable/user_guide/10min.html)."
   ]
  },
  {
   "cell_type": "code",
   "execution_count": 1,
   "metadata": {},
   "outputs": [
    {
     "name": "stdout",
     "output_type": "stream",
     "text": [
      "The shape of the dataset is: (55109, 10)\n"
     ]
    }
   ],
   "source": [
    "import pandas as pd\n",
    "\n",
    "import warnings\n",
    "warnings.filterwarnings(\"ignore\")\n",
    "  \n",
    "df = pd.read_csv('../../data/review/asin_electrical_plug_training_data.csv')\n",
    "\n",
    "print('The shape of the dataset is:', df.shape)"
   ]
  },
  {
   "cell_type": "markdown",
   "metadata": {},
   "source": [
    "## 2. <a name=\"2\">Exploratory Data Analysis</a>\n",
    "(<a href=\"#0\">Go to top</a>)\n",
    "\n",
    "### 2.1 <a name=\"21\">Overall Statistics</a>\n",
    "(<a href=\"#2\">Go to Exploratory Data Analysis</a>)\n",
    "\n",
    "We look at number of rows, columns, and some simple statistics of the dataset."
   ]
  },
  {
   "cell_type": "code",
   "execution_count": 2,
   "metadata": {},
   "outputs": [
    {
     "data": {
      "text/html": [
       "<div>\n",
       "<style scoped>\n",
       "    .dataframe tbody tr th:only-of-type {\n",
       "        vertical-align: middle;\n",
       "    }\n",
       "\n",
       "    .dataframe tbody tr th {\n",
       "        vertical-align: top;\n",
       "    }\n",
       "\n",
       "    .dataframe thead th {\n",
       "        text-align: right;\n",
       "    }\n",
       "</style>\n",
       "<table border=\"1\" class=\"dataframe\">\n",
       "  <thead>\n",
       "    <tr style=\"text-align: right;\">\n",
       "      <th></th>\n",
       "      <th>ASIN</th>\n",
       "      <th>target_label</th>\n",
       "      <th>ASIN_STATIC_ITEM_NAME</th>\n",
       "      <th>ASIN_STATIC_PRODUCT_DESCRIPTION</th>\n",
       "      <th>ASIN_STATIC_GL_PRODUCT_GROUP_TYPE</th>\n",
       "      <th>ASIN_STATIC_ITEM_PACKAGE_WEIGHT</th>\n",
       "      <th>ASIN_STATIC_LIST_PRICE</th>\n",
       "      <th>ASIN_STATIC_BATTERIES_INCLUDED</th>\n",
       "      <th>ASIN_STATIC_BATTERIES_REQUIRED</th>\n",
       "      <th>ASIN_STATIC_ITEM_CLASSIFICATION</th>\n",
       "    </tr>\n",
       "  </thead>\n",
       "  <tbody>\n",
       "    <tr>\n",
       "      <th>0</th>\n",
       "      <td>B000816IUC</td>\n",
       "      <td>0</td>\n",
       "      <td>Bruder 02921 Jeep Wrangler Unlimited with Hors...</td>\n",
       "      <td>NEW! Jeep Wrangler by Bruder with trailer come...</td>\n",
       "      <td>gl_toy</td>\n",
       "      <td>3.450000</td>\n",
       "      <td>36.66</td>\n",
       "      <td>False</td>\n",
       "      <td>False</td>\n",
       "      <td>base_product</td>\n",
       "    </tr>\n",
       "    <tr>\n",
       "      <th>1</th>\n",
       "      <td>B003674A1Y</td>\n",
       "      <td>0</td>\n",
       "      <td>Lucky Reptile OV-2 OpenAir Vivarium, Medium</td>\n",
       "      <td>Größe: 40x40x60 cm. &lt;p&gt;Lucky Reptile OpenAir V...</td>\n",
       "      <td>gl_pet_products</td>\n",
       "      <td>2.690000</td>\n",
       "      <td>24.68</td>\n",
       "      <td>False</td>\n",
       "      <td>False</td>\n",
       "      <td>base_product</td>\n",
       "    </tr>\n",
       "    <tr>\n",
       "      <th>2</th>\n",
       "      <td>B007ECONV4</td>\n",
       "      <td>0</td>\n",
       "      <td>Klarfit KS5DG Chin Up Bar (150kg Max Load, Doo...</td>\n",
       "      <td>&lt;p&gt;&lt;b&gt;Highly flexible pull-up bar with six con...</td>\n",
       "      <td>gl_sports</td>\n",
       "      <td>8.112928</td>\n",
       "      <td>NaN</td>\n",
       "      <td>False</td>\n",
       "      <td>False</td>\n",
       "      <td>base_product</td>\n",
       "    </tr>\n",
       "    <tr>\n",
       "      <th>3</th>\n",
       "      <td>B00D89465A</td>\n",
       "      <td>0</td>\n",
       "      <td>Liverpool FC Stripe Wallpaper</td>\n",
       "      <td>This fantastic Liverpool Wallpaper is ideal fo...</td>\n",
       "      <td>gl_home</td>\n",
       "      <td>1.763680</td>\n",
       "      <td>8.33</td>\n",
       "      <td>NaN</td>\n",
       "      <td>NaN</td>\n",
       "      <td>base_product</td>\n",
       "    </tr>\n",
       "    <tr>\n",
       "      <th>4</th>\n",
       "      <td>B001MJ0BN4</td>\n",
       "      <td>0</td>\n",
       "      <td>Rolson 68889 Oil Tanned Double Tool Pouch</td>\n",
       "      <td>Eleven pockets, two fixed metal hammer holders...</td>\n",
       "      <td>gl_biss</td>\n",
       "      <td>2.733704</td>\n",
       "      <td>27.38</td>\n",
       "      <td>NaN</td>\n",
       "      <td>NaN</td>\n",
       "      <td>base_product</td>\n",
       "    </tr>\n",
       "  </tbody>\n",
       "</table>\n",
       "</div>"
      ],
      "text/plain": [
       "         ASIN  target_label  \\\n",
       "0  B000816IUC             0   \n",
       "1  B003674A1Y             0   \n",
       "2  B007ECONV4             0   \n",
       "3  B00D89465A             0   \n",
       "4  B001MJ0BN4             0   \n",
       "\n",
       "                               ASIN_STATIC_ITEM_NAME  \\\n",
       "0  Bruder 02921 Jeep Wrangler Unlimited with Hors...   \n",
       "1        Lucky Reptile OV-2 OpenAir Vivarium, Medium   \n",
       "2  Klarfit KS5DG Chin Up Bar (150kg Max Load, Doo...   \n",
       "3                      Liverpool FC Stripe Wallpaper   \n",
       "4          Rolson 68889 Oil Tanned Double Tool Pouch   \n",
       "\n",
       "                     ASIN_STATIC_PRODUCT_DESCRIPTION  \\\n",
       "0  NEW! Jeep Wrangler by Bruder with trailer come...   \n",
       "1  Größe: 40x40x60 cm. <p>Lucky Reptile OpenAir V...   \n",
       "2  <p><b>Highly flexible pull-up bar with six con...   \n",
       "3  This fantastic Liverpool Wallpaper is ideal fo...   \n",
       "4  Eleven pockets, two fixed metal hammer holders...   \n",
       "\n",
       "  ASIN_STATIC_GL_PRODUCT_GROUP_TYPE  ASIN_STATIC_ITEM_PACKAGE_WEIGHT  \\\n",
       "0                            gl_toy                         3.450000   \n",
       "1                   gl_pet_products                         2.690000   \n",
       "2                         gl_sports                         8.112928   \n",
       "3                           gl_home                         1.763680   \n",
       "4                           gl_biss                         2.733704   \n",
       "\n",
       "   ASIN_STATIC_LIST_PRICE ASIN_STATIC_BATTERIES_INCLUDED  \\\n",
       "0                   36.66                          False   \n",
       "1                   24.68                          False   \n",
       "2                     NaN                          False   \n",
       "3                    8.33                            NaN   \n",
       "4                   27.38                            NaN   \n",
       "\n",
       "  ASIN_STATIC_BATTERIES_REQUIRED ASIN_STATIC_ITEM_CLASSIFICATION  \n",
       "0                          False                    base_product  \n",
       "1                          False                    base_product  \n",
       "2                          False                    base_product  \n",
       "3                            NaN                    base_product  \n",
       "4                            NaN                    base_product  "
      ]
     },
     "execution_count": 2,
     "metadata": {},
     "output_type": "execute_result"
    }
   ],
   "source": [
    "# Print the first five rows\n",
    "# NaN means missing data\n",
    "df.head(5)"
   ]
  },
  {
   "cell_type": "code",
   "execution_count": 3,
   "metadata": {},
   "outputs": [
    {
     "name": "stdout",
     "output_type": "stream",
     "text": [
      "<class 'pandas.core.frame.DataFrame'>\n",
      "Int64Index: 55109 entries, 0 to 55108\n",
      "Data columns (total 10 columns):\n",
      " #   Column                             Non-Null Count  Dtype  \n",
      "---  ------                             --------------  -----  \n",
      " 0   ASIN                               55109 non-null  object \n",
      " 1   target_label                       55109 non-null  int64  \n",
      " 2   ASIN_STATIC_ITEM_NAME              55109 non-null  object \n",
      " 3   ASIN_STATIC_PRODUCT_DESCRIPTION    31727 non-null  object \n",
      " 4   ASIN_STATIC_GL_PRODUCT_GROUP_TYPE  55109 non-null  object \n",
      " 5   ASIN_STATIC_ITEM_PACKAGE_WEIGHT    55027 non-null  float64\n",
      " 6   ASIN_STATIC_LIST_PRICE             41182 non-null  float64\n",
      " 7   ASIN_STATIC_BATTERIES_INCLUDED     45016 non-null  object \n",
      " 8   ASIN_STATIC_BATTERIES_REQUIRED     40688 non-null  object \n",
      " 9   ASIN_STATIC_ITEM_CLASSIFICATION    55097 non-null  object \n",
      "dtypes: float64(2), int64(1), object(7)\n",
      "memory usage: 4.6+ MB\n"
     ]
    }
   ],
   "source": [
    "# Let's see the data types and non-null values for each column\n",
    "df.info()"
   ]
  },
  {
   "cell_type": "code",
   "execution_count": 4,
   "metadata": {},
   "outputs": [
    {
     "data": {
      "text/html": [
       "<div>\n",
       "<style scoped>\n",
       "    .dataframe tbody tr th:only-of-type {\n",
       "        vertical-align: middle;\n",
       "    }\n",
       "\n",
       "    .dataframe tbody tr th {\n",
       "        vertical-align: top;\n",
       "    }\n",
       "\n",
       "    .dataframe thead th {\n",
       "        text-align: right;\n",
       "    }\n",
       "</style>\n",
       "<table border=\"1\" class=\"dataframe\">\n",
       "  <thead>\n",
       "    <tr style=\"text-align: right;\">\n",
       "      <th></th>\n",
       "      <th>target_label</th>\n",
       "      <th>ASIN_STATIC_ITEM_PACKAGE_WEIGHT</th>\n",
       "      <th>ASIN_STATIC_LIST_PRICE</th>\n",
       "    </tr>\n",
       "  </thead>\n",
       "  <tbody>\n",
       "    <tr>\n",
       "      <th>count</th>\n",
       "      <td>55109.000000</td>\n",
       "      <td>55027.000000</td>\n",
       "      <td>4.118200e+04</td>\n",
       "    </tr>\n",
       "    <tr>\n",
       "      <th>mean</th>\n",
       "      <td>0.036618</td>\n",
       "      <td>31.130529</td>\n",
       "      <td>1.563334e+02</td>\n",
       "    </tr>\n",
       "    <tr>\n",
       "      <th>std</th>\n",
       "      <td>0.187825</td>\n",
       "      <td>458.771422</td>\n",
       "      <td>1.754345e+04</td>\n",
       "    </tr>\n",
       "    <tr>\n",
       "      <th>min</th>\n",
       "      <td>0.000000</td>\n",
       "      <td>0.000000</td>\n",
       "      <td>1.160000e+00</td>\n",
       "    </tr>\n",
       "    <tr>\n",
       "      <th>25%</th>\n",
       "      <td>0.000000</td>\n",
       "      <td>1.520000</td>\n",
       "      <td>1.667000e+01</td>\n",
       "    </tr>\n",
       "    <tr>\n",
       "      <th>50%</th>\n",
       "      <td>0.000000</td>\n",
       "      <td>2.513244</td>\n",
       "      <td>3.268500e+01</td>\n",
       "    </tr>\n",
       "    <tr>\n",
       "      <th>75%</th>\n",
       "      <td>0.000000</td>\n",
       "      <td>5.555592</td>\n",
       "      <td>6.999000e+01</td>\n",
       "    </tr>\n",
       "    <tr>\n",
       "      <th>max</th>\n",
       "      <td>1.000000</td>\n",
       "      <td>29500.000000</td>\n",
       "      <td>3.560000e+06</td>\n",
       "    </tr>\n",
       "  </tbody>\n",
       "</table>\n",
       "</div>"
      ],
      "text/plain": [
       "       target_label  ASIN_STATIC_ITEM_PACKAGE_WEIGHT  ASIN_STATIC_LIST_PRICE\n",
       "count  55109.000000                     55027.000000            4.118200e+04\n",
       "mean       0.036618                        31.130529            1.563334e+02\n",
       "std        0.187825                       458.771422            1.754345e+04\n",
       "min        0.000000                         0.000000            1.160000e+00\n",
       "25%        0.000000                         1.520000            1.667000e+01\n",
       "50%        0.000000                         2.513244            3.268500e+01\n",
       "75%        0.000000                         5.555592            6.999000e+01\n",
       "max        1.000000                     29500.000000            3.560000e+06"
      ]
     },
     "execution_count": 4,
     "metadata": {},
     "output_type": "execute_result"
    }
   ],
   "source": [
    "# This prints basic statistics for numerical columns\n",
    "df.describe()"
   ]
  },
  {
   "cell_type": "markdown",
   "metadata": {},
   "source": [
    "Let's choose the model features and the model target. We first print the dataset column labels. One way to print all columns when working with much large datasets, is to use the popular package for scientific computing with Python [numpy](https://numpy.org/) to set printing options. "
   ]
  },
  {
   "cell_type": "code",
   "execution_count": 5,
   "metadata": {},
   "outputs": [
    {
     "name": "stdout",
     "output_type": "stream",
     "text": [
      "['ASIN' 'target_label' 'ASIN_STATIC_ITEM_NAME'\n",
      " 'ASIN_STATIC_PRODUCT_DESCRIPTION' 'ASIN_STATIC_GL_PRODUCT_GROUP_TYPE'\n",
      " 'ASIN_STATIC_ITEM_PACKAGE_WEIGHT' 'ASIN_STATIC_LIST_PRICE'\n",
      " 'ASIN_STATIC_BATTERIES_INCLUDED' 'ASIN_STATIC_BATTERIES_REQUIRED'\n",
      " 'ASIN_STATIC_ITEM_CLASSIFICATION']\n"
     ]
    }
   ],
   "source": [
    "import numpy as np                    # use this for datasets with more columns, to print all columns\n",
    "np.set_printoptions(threshold=np.inf) # use this for datasets with more columns, to print all columns\n",
    "\n",
    "# This prints the column labels of the dataframe\n",
    "print(df.columns.values)"
   ]
  },
  {
   "cell_type": "code",
   "execution_count": 6,
   "metadata": {},
   "outputs": [
    {
     "name": "stdout",
     "output_type": "stream",
     "text": [
      "Model features:  Index(['ASIN', 'ASIN_STATIC_ITEM_NAME', 'ASIN_STATIC_PRODUCT_DESCRIPTION',\n",
      "       'ASIN_STATIC_GL_PRODUCT_GROUP_TYPE', 'ASIN_STATIC_ITEM_PACKAGE_WEIGHT',\n",
      "       'ASIN_STATIC_LIST_PRICE', 'ASIN_STATIC_BATTERIES_INCLUDED',\n",
      "       'ASIN_STATIC_BATTERIES_REQUIRED', 'ASIN_STATIC_ITEM_CLASSIFICATION'],\n",
      "      dtype='object')\n",
      "Model target:  target_label\n"
     ]
    }
   ],
   "source": [
    "model_features = df.columns.drop('target_label')\n",
    "model_target = 'target_label'\n",
    "\n",
    "print('Model features: ', model_features)\n",
    "print('Model target: ', model_target)"
   ]
  },
  {
   "cell_type": "markdown",
   "metadata": {},
   "source": [
    "### 2.2. <a name=\"22\">Basic Plots</a>\n",
    "(<a href=\"#2\">Go to Exploratory Data Analysis</a>)\n",
    "\n",
    "We further examine our dataset with some plots, using data visualization libraries like [matplotlib](https://matplotlib.org/) and [seaborn](https://seaborn.pydata.org/). Important note: These plots ignore null (missing) values. We will see how to deal with <a href=\"#5\">missing values</a> later.\n",
    "\n",
    "### Bar Plots\n",
    "\n",
    "Bar plots show counts of categorical data fields. We next examine some of the categorical variables, including the target.\n",
    "\n",
    "__value_counts()__ function yields the counts of each unique value. "
   ]
  },
  {
   "cell_type": "code",
   "execution_count": 7,
   "metadata": {},
   "outputs": [
    {
     "data": {
      "text/plain": [
       "gl_home                        14581\n",
       "gl_home_improvement             6278\n",
       "gl_sports                       5263\n",
       "gl_toy                          4955\n",
       "gl_automotive                   3979\n",
       "gl_pet_products                 3891\n",
       "gl_office_product               2884\n",
       "gl_lawn_and_garden              2494\n",
       "gl_musical_instruments          1786\n",
       "gl_pc                           1667\n",
       "gl_camera                       1629\n",
       "gl_electronics                  1314\n",
       "gl_baby_product                 1236\n",
       "gl_drugstore                     757\n",
       "gl_wireless                      581\n",
       "gl_personal_care_appliances      566\n",
       "gl_kitchen                       566\n",
       "gl_biss                          225\n",
       "gl_major_appliances              213\n",
       "gl_home_entertainment            107\n",
       "gl_apparel                        55\n",
       "gl_luggage                        29\n",
       "gl_shoes                          22\n",
       "gl_beauty                         17\n",
       "gl_video_games                     7\n",
       "gl_book                            3\n",
       "gl_watch                           2\n",
       "gl_music                           1\n",
       "gl_fresh_ambient                   1\n",
       "Name: ASIN_STATIC_GL_PRODUCT_GROUP_TYPE, dtype: int64"
      ]
     },
     "execution_count": 7,
     "metadata": {},
     "output_type": "execute_result"
    }
   ],
   "source": [
    "df['ASIN_STATIC_GL_PRODUCT_GROUP_TYPE'].value_counts()"
   ]
  },
  {
   "cell_type": "markdown",
   "metadata": {},
   "source": [
    "__plot.bar()__ addition to the __value_counts()__ function makes a bar plot of the values."
   ]
  },
  {
   "cell_type": "code",
   "execution_count": 8,
   "metadata": {},
   "outputs": [
    {
     "data": {
      "image/png": "[encoded data removed]",
      "text/plain": [
       "<Figure size 640x480 with 1 Axes>"
      ]
     },
     "metadata": {},
     "output_type": "display_data"
    }
   ],
   "source": [
    "import matplotlib.pyplot as plt\n",
    "\n",
    "df['ASIN_STATIC_GL_PRODUCT_GROUP_TYPE'].value_counts().plot.bar()\n",
    "plt.show()"
   ]
  },
  {
   "cell_type": "code",
   "execution_count": 9,
   "metadata": {},
   "outputs": [
    {
     "data": {
      "image/png": "[encoded data removed]",
      "text/plain": [
       "<Figure size 640x480 with 1 Axes>"
      ]
     },
     "metadata": {},
     "output_type": "display_data"
    }
   ],
   "source": [
    "df['ASIN_STATIC_BATTERIES_INCLUDED'].value_counts().plot.bar()\n",
    "plt.show()"
   ]
  },
  {
   "cell_type": "code",
   "execution_count": 10,
   "metadata": {},
   "outputs": [
    {
     "data": {
      "image/png": "[encoded data removed]",
      "text/plain": [
       "<Figure size 640x480 with 1 Axes>"
      ]
     },
     "metadata": {},
     "output_type": "display_data"
    }
   ],
   "source": [
    "df['ASIN_STATIC_BATTERIES_REQUIRED'].value_counts().plot.bar()\n",
    "plt.show()"
   ]
  },
  {
   "cell_type": "markdown",
   "metadata": {},
   "source": [
    "#### Target distribution\n",
    "\n",
    "Let's also check our target distribution."
   ]
  },
  {
   "cell_type": "code",
   "execution_count": 11,
   "metadata": {},
   "outputs": [
    {
     "data": {
      "text/plain": [
       "0    53091\n",
       "1     2018\n",
       "Name: target_label, dtype: int64"
      ]
     },
     "execution_count": 11,
     "metadata": {},
     "output_type": "execute_result"
    }
   ],
   "source": [
    "df[model_target].value_counts()"
   ]
  },
  {
   "cell_type": "code",
   "execution_count": 12,
   "metadata": {},
   "outputs": [
    {
     "data": {
      "image/png": "[encoded data removed]",
      "text/plain": [
       "<Figure size 640x480 with 1 Axes>"
      ]
     },
     "metadata": {},
     "output_type": "display_data"
    }
   ],
   "source": [
    "import matplotlib.pyplot as plt\n",
    "%matplotlib inline\n",
    "\n",
    "df[model_target].value_counts().plot.bar()\n",
    "plt.show()\n"
   ]
  },
  {
   "cell_type": "markdown",
   "metadata": {},
   "source": [
    "We notice that we are dealing with an imbalanced dataset. This means one result type is dominating the other one(s). In this case, we have a lot of class 0 (\"no plug\") records and very few class 1 (\"plug\") records. One way to <a href=\"#4\">address the imbalanced dataset</a> is upsampling the rare the class, but other scenarios might be considered.\n"
   ]
  },
  {
   "cell_type": "markdown",
   "metadata": {},
   "source": [
    "### Histograms\n",
    "\n",
    "Histograms show distributions of numeric data fields. Data is divided into \"buckets\" or \"bins\"."
   ]
  },
  {
   "cell_type": "code",
   "execution_count": 13,
   "metadata": {},
   "outputs": [
    {
     "data": {
      "image/png": "[encoded data removed]",
      "text/plain": [
       "<Figure size 640x480 with 1 Axes>"
      ]
     },
     "metadata": {},
     "output_type": "display_data"
    }
   ],
   "source": [
    "df['ASIN_STATIC_LIST_PRICE'].plot.hist(bins=5)\n",
    "plt.show()"
   ]
  },
  {
   "cell_type": "markdown",
   "metadata": {},
   "source": [
    "When we look at the histogram above, we can see that values are heavily placed in the first bin. Let's check the min-max values below."
   ]
  },
  {
   "cell_type": "code",
   "execution_count": 14,
   "metadata": {},
   "outputs": [
    {
     "data": {
      "text/plain": [
       "1.16"
      ]
     },
     "execution_count": 14,
     "metadata": {},
     "output_type": "execute_result"
    }
   ],
   "source": [
    "df['ASIN_STATIC_LIST_PRICE'].min()"
   ]
  },
  {
   "cell_type": "code",
   "execution_count": 15,
   "metadata": {},
   "outputs": [
    {
     "data": {
      "text/plain": [
       "3560000.0"
      ]
     },
     "execution_count": 15,
     "metadata": {},
     "output_type": "execute_result"
    }
   ],
   "source": [
    "df['ASIN_STATIC_LIST_PRICE'].max()"
   ]
  },
  {
   "cell_type": "markdown",
   "metadata": {},
   "source": [
    "__value_counts()__ function again becomes useful here. Let's increase the number of bins to 10 for more bins. Looking below, we can see that we have an outlier number in the last bin. We have a very expensive item of worth more than __3 million $__! \n",
    "\n",
    "This is likely a wrong value. We next drop this record."
   ]
  },
  {
   "cell_type": "code",
   "execution_count": 16,
   "metadata": {},
   "outputs": [
    {
     "data": {
      "text/plain": [
       "(-3558.84, 356001.044]        41181\n",
       "(356001.044, 712000.928]          0\n",
       "(712000.928, 1068000.812]         0\n",
       "(1068000.812, 1424000.696]        0\n",
       "(1424000.696, 1780000.58]         0\n",
       "(1780000.58, 2136000.464]         0\n",
       "(2136000.464, 2492000.348]        0\n",
       "(2492000.348, 2848000.232]        0\n",
       "(2848000.232, 3204000.116]        0\n",
       "(3204000.116, 3560000.0]          1\n",
       "Name: ASIN_STATIC_LIST_PRICE, dtype: int64"
      ]
     },
     "execution_count": 16,
     "metadata": {},
     "output_type": "execute_result"
    }
   ],
   "source": [
    "df['ASIN_STATIC_LIST_PRICE'].value_counts(bins=10, sort=False)"
   ]
  },
  {
   "cell_type": "code",
   "execution_count": 17,
   "metadata": {},
   "outputs": [],
   "source": [
    "dropIndexes = df[df['ASIN_STATIC_LIST_PRICE'] > 3000000].index\n",
    "df.drop(dropIndexes , inplace=True)"
   ]
  },
  {
   "cell_type": "code",
   "execution_count": 18,
   "metadata": {},
   "outputs": [
    {
     "data": {
      "text/plain": [
       "(-13.838999999999999, 1500.944]    41147\n",
       "(1500.944, 3000.728]                  15\n",
       "(3000.728, 4500.512]                   8\n",
       "(4500.512, 6000.296]                   3\n",
       "(6000.296, 7500.08]                    2\n",
       "(7500.08, 8999.864]                    3\n",
       "(8999.864, 10499.648]                  0\n",
       "(10499.648, 11999.432]                 1\n",
       "(11999.432, 13499.216]                 0\n",
       "(13499.216, 14999.0]                   2\n",
       "Name: ASIN_STATIC_LIST_PRICE, dtype: int64"
      ]
     },
     "execution_count": 18,
     "metadata": {},
     "output_type": "execute_result"
    }
   ],
   "source": [
    "df['ASIN_STATIC_LIST_PRICE'].value_counts(bins=10, sort=False)"
   ]
  },
  {
   "cell_type": "markdown",
   "metadata": {},
   "source": [
    "Let's look at the histogram again, to see the values spread out across more bins."
   ]
  },
  {
   "cell_type": "code",
   "execution_count": 19,
   "metadata": {},
   "outputs": [
    {
     "data": {
      "image/png": "[encoded data removed]",
      "text/plain": [
       "<Figure size 640x480 with 1 Axes>"
      ]
     },
     "metadata": {},
     "output_type": "display_data"
    }
   ],
   "source": [
    "df['ASIN_STATIC_LIST_PRICE'].plot.hist(bins=100)\n",
    "plt.show()"
   ]
  },
  {
   "cell_type": "code",
   "execution_count": 20,
   "metadata": {},
   "outputs": [
    {
     "data": {
      "image/png": "[encoded data removed]",
      "text/plain": [
       "<Figure size 640x480 with 1 Axes>"
      ]
     },
     "metadata": {},
     "output_type": "display_data"
    }
   ],
   "source": [
    "df['ASIN_STATIC_ITEM_PACKAGE_WEIGHT'].plot.hist(bins=100)\n",
    "plt.show()"
   ]
  },
  {
   "cell_type": "code",
   "execution_count": 21,
   "metadata": {},
   "outputs": [
    {
     "data": {
      "text/plain": [
       "(-29.501, 5900.0]     54959\n",
       "(5900.0, 11800.0]        47\n",
       "(11800.0, 17700.0]       15\n",
       "(17700.0, 23600.0]        1\n",
       "(23600.0, 29500.0]        4\n",
       "Name: ASIN_STATIC_ITEM_PACKAGE_WEIGHT, dtype: int64"
      ]
     },
     "execution_count": 21,
     "metadata": {},
     "output_type": "execute_result"
    }
   ],
   "source": [
    "df['ASIN_STATIC_ITEM_PACKAGE_WEIGHT'].value_counts(bins=5, sort=False)"
   ]
  },
  {
   "cell_type": "markdown",
   "metadata": {},
   "source": [
    "### 2.3 <a name=\"23\">Scatter Plots and Correlations</a>\n",
    "(<a href=\"#2\">Go to Exploratory Data Analysis</a>)\n",
    "\n",
    "### Scatter plot\n",
    "Scatter plots are simple 2D plots of two numerical variables that can be used to examine the relationship between two variables. Below, we are plotting __ASIN_STATIC_ITEM_PACKAGE_WEIGHT__ vs. __ASIN_STATIC_LIST_PRICE__. "
   ]
  },
  {
   "cell_type": "code",
   "execution_count": 22,
   "metadata": {},
   "outputs": [
    {
     "data": {
      "image/png": "[encoded data removed]",
      "text/plain": [
       "<Figure size 640x480 with 1 Axes>"
      ]
     },
     "metadata": {},
     "output_type": "display_data"
    }
   ],
   "source": [
    "%matplotlib inline\n",
    "import matplotlib.pyplot as plt\n",
    "\n",
    "df.plot.scatter(x='ASIN_STATIC_ITEM_PACKAGE_WEIGHT', y='ASIN_STATIC_LIST_PRICE')\n",
    "plt.show()"
   ]
  },
  {
   "cell_type": "markdown",
   "metadata": {},
   "source": [
    "From this scatter plot, we cannot identify a relationship between these two variables. "
   ]
  },
  {
   "cell_type": "markdown",
   "metadata": {},
   "source": [
    "### Scatterplot with Identification\n",
    "\n",
    "We can also add the target values, \"Plug\" or \"No plug\", to our scatter plot."
   ]
  },
  {
   "cell_type": "code",
   "execution_count": 23,
   "metadata": {},
   "outputs": [
    {
     "data": {
      "image/png": "[encoded data removed]",
      "text/plain": [
       "<Figure size 640x480 with 1 Axes>"
      ]
     },
     "metadata": {},
     "output_type": "display_data"
    }
   ],
   "source": [
    "import seaborn as sns\n",
    "\n",
    "X1 = df[['ASIN_STATIC_ITEM_PACKAGE_WEIGHT', 'ASIN_STATIC_LIST_PRICE']][df['target_label'] == 0]\n",
    "X2 = df[['ASIN_STATIC_ITEM_PACKAGE_WEIGHT', 'ASIN_STATIC_LIST_PRICE']][df['target_label'] == 1]\n",
    "\n",
    "plt.scatter(X1.iloc[:,0], \n",
    "            X1.iloc[:,1], \n",
    "            s=50, \n",
    "            c='blue', \n",
    "            marker='o', \n",
    "            label='No Plug')\n",
    "\n",
    "plt.scatter(X2.iloc[:,0], \n",
    "            X2.iloc[:,1], \n",
    "            s=50, \n",
    "            c='red', \n",
    "            marker='v', \n",
    "            label='Plug')\n",
    "\n",
    "plt.xlabel('Package weight')\n",
    "plt.ylabel('List price')\n",
    "plt.legend()\n",
    "plt.grid()\n",
    "plt.show()"
   ]
  },
  {
   "cell_type": "markdown",
   "metadata": {},
   "source": [
    "From this plot, we notice that we can't get a good separation between the data points, based on these two numerical features alone. "
   ]
  },
  {
   "cell_type": "markdown",
   "metadata": {},
   "source": [
    "### Correlation Matrix Heatmat\n",
    "We can also  print correlation matrices. Correlation scores are calculated for numerical fields. For that reason, we will only pick the numerical fields of our dataset: __ASIN_STATIC_ITEM_PACKAGE_WEIGHT__ and __ASIN_STATIC_LIST_PRICE__."
   ]
  },
  {
   "cell_type": "code",
   "execution_count": 24,
   "metadata": {},
   "outputs": [
    {
     "data": {
      "text/html": [
       "<style type=\"text/css\">\n",
       "#T_fad0a_row0_col0, #T_fad0a_row1_col1 {\n",
       "  background-color: #d9d9d9;\n",
       "  color: #000000;\n",
       "}\n",
       "#T_fad0a_row0_col1, #T_fad0a_row1_col0 {\n",
       "  background-color: #3182bd;\n",
       "  color: #f1f1f1;\n",
       "}\n",
       "</style>\n",
       "<table id=\"T_fad0a\">\n",
       "  <thead>\n",
       "    <tr>\n",
       "      <th class=\"blank level0\" >&nbsp;</th>\n",
       "      <th id=\"T_fad0a_level0_col0\" class=\"col_heading level0 col0\" >ASIN_STATIC_ITEM_PACKAGE_WEIGHT</th>\n",
       "      <th id=\"T_fad0a_level0_col1\" class=\"col_heading level0 col1\" >ASIN_STATIC_LIST_PRICE</th>\n",
       "    </tr>\n",
       "  </thead>\n",
       "  <tbody>\n",
       "    <tr>\n",
       "      <th id=\"T_fad0a_level0_row0\" class=\"row_heading level0 row0\" >ASIN_STATIC_ITEM_PACKAGE_WEIGHT</th>\n",
       "      <td id=\"T_fad0a_row0_col0\" class=\"data row0 col0\" >1.000000</td>\n",
       "      <td id=\"T_fad0a_row0_col1\" class=\"data row0 col1\" >0.013237</td>\n",
       "    </tr>\n",
       "    <tr>\n",
       "      <th id=\"T_fad0a_level0_row1\" class=\"row_heading level0 row1\" >ASIN_STATIC_LIST_PRICE</th>\n",
       "      <td id=\"T_fad0a_row1_col0\" class=\"data row1 col0\" >0.013237</td>\n",
       "      <td id=\"T_fad0a_row1_col1\" class=\"data row1 col1\" >1.000000</td>\n",
       "    </tr>\n",
       "  </tbody>\n",
       "</table>\n"
      ],
      "text/plain": [
       "<pandas.io.formats.style.Styler at 0x7ff4a646ad70>"
      ]
     },
     "execution_count": 24,
     "metadata": {},
     "output_type": "execute_result"
    }
   ],
   "source": [
    "cols = ['ASIN_STATIC_ITEM_PACKAGE_WEIGHT', 'ASIN_STATIC_LIST_PRICE']\n",
    "#print(df[cols].corr())\n",
    "df[cols].corr().style.background_gradient(cmap='tab20c')"
   ]
  },
  {
   "cell_type": "markdown",
   "metadata": {},
   "source": [
    "From the correlation matrix, we can see that there is no relationship between listing price and item package weight."
   ]
  },
  {
   "cell_type": "markdown",
   "metadata": {},
   "source": [
    "## 3. <a name=\"3\">Train - Validation - Test Datasets</a>\n",
    "(<a href=\"#0\">Go to top</a>)\n",
    "\n",
    "We have already split the original dataset into two data files: __training__ data file (asin_electrical_plug_training_data.csv) with __90%__ of the samples and the __test__ data file (asin_electrical_plug_test_data.csv) with the remaining __10%__. "
   ]
  },
  {
   "cell_type": "code",
   "execution_count": 25,
   "metadata": {},
   "outputs": [
    {
     "name": "stdout",
     "output_type": "stream",
     "text": [
      "The shape of the test dataset is: (6124, 10)\n"
     ]
    }
   ],
   "source": [
    "# Load the test_dataset from csv file\n",
    "test_data = pd.read_csv('../../data/review/asin_electrical_plug_test_data.csv')\n",
    "\n",
    "print('The shape of the test dataset is:', test_data.shape)"
   ]
  },
  {
   "cell_type": "markdown",
   "metadata": {},
   "source": [
    "To optimize the performance of our models, that is to reduce the so-called *generalization gap* for example, we need a __validation__ set. \n",
    "We can further split our training dataset (df) to create a new training set (85%) and a validation set (15%) using sklearn's [train_test_split()](https://scikit-learn.org/stable/modules/generated/sklearn.model_selection.train_test_split.html) function."
   ]
  },
  {
   "cell_type": "code",
   "execution_count": 26,
   "metadata": {},
   "outputs": [],
   "source": [
    "# Split training dataset into training and val datasets\n",
    "from sklearn.model_selection import train_test_split\n",
    "\n",
    "train_data, val_data = train_test_split(df, test_size=0.15, shuffle=True, random_state=23)\n"
   ]
  },
  {
   "cell_type": "code",
   "execution_count": 27,
   "metadata": {},
   "outputs": [
    {
     "name": "stdout",
     "output_type": "stream",
     "text": [
      "Train - Validation - Test Datasets shapes:  (46841, 10) (8267, 10) (6124, 10)\n"
     ]
    }
   ],
   "source": [
    "# Print the shapes of the Train - Validation - Test Datasets\n",
    "print('Train - Validation - Test Datasets shapes: ', train_data.shape, val_data.shape, test_data.shape)\n"
   ]
  },
  {
   "cell_type": "markdown",
   "metadata": {},
   "source": [
    "## 4. <a name=\"4\">Handling Imbalanced Datasets</a>\n",
    "(<a href=\"#0\">Go to top</a>)\n",
    "\n",
    "__Up-sampling__. One way to address imbalanced datasets, more specifically target imbalance, is to upsample the rare class, so in the end we have equal number of samples for each class.\n",
    "\n",
    "__Important note:__ We want to fix the imbalance only in training set. We shouldn't change the validation and test sets, they should follow the original distribution."
   ]
  },
  {
   "cell_type": "code",
   "execution_count": 28,
   "metadata": {},
   "outputs": [
    {
     "name": "stdout",
     "output_type": "stream",
     "text": [
      "Train - Validation - Test Datasets shapes:  (46841, 10) (8267, 10) (6124, 10)\n",
      "Train Dataset class 0 samples:  45131\n",
      "Train Dataset class 1 samples:  1710\n"
     ]
    }
   ],
   "source": [
    "# Print the shapes of the Train - Validation - Test Datasets\n",
    "print('Train - Validation - Test Datasets shapes: ', train_data.shape, val_data.shape, test_data.shape)\n",
    "\n",
    "# Print the distribution of target for the training dataset\n",
    "print('Train Dataset class 0 samples: ', sum(train_data[model_target] == 0))\n",
    "print('Train Dataset class 1 samples: ', sum(train_data[model_target] == 1))"
   ]
  },
  {
   "cell_type": "code",
   "execution_count": 29,
   "metadata": {},
   "outputs": [],
   "source": [
    "# Upsample the rare class \n",
    "from sklearn.utils import shuffle\n",
    "\n",
    "plug_products = train_data[train_data[model_target] == 1]\n",
    "no_plug_products = train_data[train_data[model_target] == 0]\n",
    "\n",
    "upsampled_plug_products = plug_products.sample(n=len(no_plug_products), replace=True, random_state=42)\n",
    "\n",
    "train_data = pd.concat([no_plug_products, upsampled_plug_products])\n",
    "train_data = shuffle(train_data)"
   ]
  },
  {
   "cell_type": "code",
   "execution_count": 30,
   "metadata": {},
   "outputs": [
    {
     "name": "stdout",
     "output_type": "stream",
     "text": [
      "Train - Validation - Test Datasets shapes:  (90262, 10) (8267, 10) (6124, 10)\n",
      "Train Dataset class 0 samples:  45131\n",
      "Train Dataset class 1 samples:  45131\n"
     ]
    }
   ],
   "source": [
    "# Print the shapes of the Train - Validation - Test Datasets\n",
    "print('Train - Validation - Test Datasets shapes: ', train_data.shape, val_data.shape, test_data.shape)\n",
    "\n",
    "# Print the distribution of target for the training dataset\n",
    "print('Train Dataset class 0 samples: ', sum(train_data[model_target] == 0))\n",
    "print('Train Dataset class 1 samples: ', sum(train_data[model_target] == 1))"
   ]
  },
  {
   "cell_type": "markdown",
   "metadata": {},
   "source": [
    "## 5. <a name=\"5\">Handling Missing Values</a>\n",
    "(<a href=\"#0\">Go to top</a>)\n",
    "\n",
    "  * <a href=\"#51\">Drop columns with missing values</a>\n",
    "  * <a href=\"#52\">Drop rows with missing values</a>\n",
    "  * <a href=\"#53\"> Impute missing values with .fillna()</a>\n",
    "  * <a href=\"#54\"> Impute missing values with sklearn's SimpleImputer</a> (preferred)\n",
    "\n",
    "Let's first check the number of missing (nan) values for each column."
   ]
  },
  {
   "cell_type": "code",
   "execution_count": 31,
   "metadata": {},
   "outputs": [
    {
     "data": {
      "text/plain": [
       "ASIN                                     0\n",
       "target_label                             0\n",
       "ASIN_STATIC_ITEM_NAME                    0\n",
       "ASIN_STATIC_PRODUCT_DESCRIPTION      23382\n",
       "ASIN_STATIC_GL_PRODUCT_GROUP_TYPE        0\n",
       "ASIN_STATIC_ITEM_PACKAGE_WEIGHT         82\n",
       "ASIN_STATIC_LIST_PRICE               13927\n",
       "ASIN_STATIC_BATTERIES_INCLUDED       10093\n",
       "ASIN_STATIC_BATTERIES_REQUIRED       14421\n",
       "ASIN_STATIC_ITEM_CLASSIFICATION         12\n",
       "dtype: int64"
      ]
     },
     "execution_count": 31,
     "metadata": {},
     "output_type": "execute_result"
    }
   ],
   "source": [
    "df.isna().sum()"
   ]
  },
  {
   "cell_type": "markdown",
   "metadata": {},
   "source": [
    "There are quite a few values missing on many columns, of both numerical and categorical types. Let's explore a few options dealing with missing values."
   ]
  },
  {
   "cell_type": "markdown",
   "metadata": {},
   "source": [
    "### 5.1 <a name=\"51\">Drop columns with missing values</a>\n",
    "(<a href=\"#5\">Go to Handling Missing Values</a>)\n",
    "\n",
    "We can drop some columns if we think there is significant amount of missing data in those columns.\n",
    "\n",
    "__Hint:__ You can also use __inplace=True__ parameter to drop columns inplace without assignment.\n"
   ]
  },
  {
   "cell_type": "code",
   "execution_count": 32,
   "metadata": {},
   "outputs": [
    {
     "data": {
      "text/html": [
       "<div>\n",
       "<style scoped>\n",
       "    .dataframe tbody tr th:only-of-type {\n",
       "        vertical-align: middle;\n",
       "    }\n",
       "\n",
       "    .dataframe tbody tr th {\n",
       "        vertical-align: top;\n",
       "    }\n",
       "\n",
       "    .dataframe thead th {\n",
       "        text-align: right;\n",
       "    }\n",
       "</style>\n",
       "<table border=\"1\" class=\"dataframe\">\n",
       "  <thead>\n",
       "    <tr style=\"text-align: right;\">\n",
       "      <th></th>\n",
       "      <th>ASIN</th>\n",
       "      <th>target_label</th>\n",
       "      <th>ASIN_STATIC_ITEM_NAME</th>\n",
       "      <th>ASIN_STATIC_GL_PRODUCT_GROUP_TYPE</th>\n",
       "      <th>ASIN_STATIC_ITEM_PACKAGE_WEIGHT</th>\n",
       "      <th>ASIN_STATIC_ITEM_CLASSIFICATION</th>\n",
       "    </tr>\n",
       "  </thead>\n",
       "  <tbody>\n",
       "    <tr>\n",
       "      <th>0</th>\n",
       "      <td>B000816IUC</td>\n",
       "      <td>0</td>\n",
       "      <td>Bruder 02921 Jeep Wrangler Unlimited with Hors...</td>\n",
       "      <td>gl_toy</td>\n",
       "      <td>3.450000</td>\n",
       "      <td>base_product</td>\n",
       "    </tr>\n",
       "    <tr>\n",
       "      <th>1</th>\n",
       "      <td>B003674A1Y</td>\n",
       "      <td>0</td>\n",
       "      <td>Lucky Reptile OV-2 OpenAir Vivarium, Medium</td>\n",
       "      <td>gl_pet_products</td>\n",
       "      <td>2.690000</td>\n",
       "      <td>base_product</td>\n",
       "    </tr>\n",
       "    <tr>\n",
       "      <th>2</th>\n",
       "      <td>B007ECONV4</td>\n",
       "      <td>0</td>\n",
       "      <td>Klarfit KS5DG Chin Up Bar (150kg Max Load, Doo...</td>\n",
       "      <td>gl_sports</td>\n",
       "      <td>8.112928</td>\n",
       "      <td>base_product</td>\n",
       "    </tr>\n",
       "    <tr>\n",
       "      <th>3</th>\n",
       "      <td>B00D89465A</td>\n",
       "      <td>0</td>\n",
       "      <td>Liverpool FC Stripe Wallpaper</td>\n",
       "      <td>gl_home</td>\n",
       "      <td>1.763680</td>\n",
       "      <td>base_product</td>\n",
       "    </tr>\n",
       "    <tr>\n",
       "      <th>4</th>\n",
       "      <td>B001MJ0BN4</td>\n",
       "      <td>0</td>\n",
       "      <td>Rolson 68889 Oil Tanned Double Tool Pouch</td>\n",
       "      <td>gl_biss</td>\n",
       "      <td>2.733704</td>\n",
       "      <td>base_product</td>\n",
       "    </tr>\n",
       "  </tbody>\n",
       "</table>\n",
       "</div>"
      ],
      "text/plain": [
       "         ASIN  target_label  \\\n",
       "0  B000816IUC             0   \n",
       "1  B003674A1Y             0   \n",
       "2  B007ECONV4             0   \n",
       "3  B00D89465A             0   \n",
       "4  B001MJ0BN4             0   \n",
       "\n",
       "                               ASIN_STATIC_ITEM_NAME  \\\n",
       "0  Bruder 02921 Jeep Wrangler Unlimited with Hors...   \n",
       "1        Lucky Reptile OV-2 OpenAir Vivarium, Medium   \n",
       "2  Klarfit KS5DG Chin Up Bar (150kg Max Load, Doo...   \n",
       "3                      Liverpool FC Stripe Wallpaper   \n",
       "4          Rolson 68889 Oil Tanned Double Tool Pouch   \n",
       "\n",
       "  ASIN_STATIC_GL_PRODUCT_GROUP_TYPE  ASIN_STATIC_ITEM_PACKAGE_WEIGHT  \\\n",
       "0                            gl_toy                         3.450000   \n",
       "1                   gl_pet_products                         2.690000   \n",
       "2                         gl_sports                         8.112928   \n",
       "3                           gl_home                         1.763680   \n",
       "4                           gl_biss                         2.733704   \n",
       "\n",
       "  ASIN_STATIC_ITEM_CLASSIFICATION  \n",
       "0                    base_product  \n",
       "1                    base_product  \n",
       "2                    base_product  \n",
       "3                    base_product  \n",
       "4                    base_product  "
      ]
     },
     "execution_count": 32,
     "metadata": {},
     "output_type": "execute_result"
    }
   ],
   "source": [
    "df_columns_dropped = df.drop(columns = [\"ASIN_STATIC_PRODUCT_DESCRIPTION\", \n",
    "                                        \"ASIN_STATIC_LIST_PRICE\",\n",
    "                                        \"ASIN_STATIC_BATTERIES_INCLUDED\",\n",
    "                                        \"ASIN_STATIC_BATTERIES_REQUIRED\"\n",
    "                                       ])  \n",
    "df_columns_dropped.head()"
   ]
  },
  {
   "cell_type": "code",
   "execution_count": 33,
   "metadata": {},
   "outputs": [
    {
     "data": {
      "text/plain": [
       "ASIN                                  0\n",
       "target_label                          0\n",
       "ASIN_STATIC_ITEM_NAME                 0\n",
       "ASIN_STATIC_GL_PRODUCT_GROUP_TYPE     0\n",
       "ASIN_STATIC_ITEM_PACKAGE_WEIGHT      82\n",
       "ASIN_STATIC_ITEM_CLASSIFICATION      12\n",
       "dtype: int64"
      ]
     },
     "execution_count": 33,
     "metadata": {},
     "output_type": "execute_result"
    }
   ],
   "source": [
    "df_columns_dropped.isna().sum()"
   ]
  },
  {
   "cell_type": "code",
   "execution_count": 34,
   "metadata": {},
   "outputs": [
    {
     "data": {
      "text/plain": [
       "(55108, 6)"
      ]
     },
     "execution_count": 34,
     "metadata": {},
     "output_type": "execute_result"
    }
   ],
   "source": [
    "df_columns_dropped.shape"
   ]
  },
  {
   "cell_type": "markdown",
   "metadata": {},
   "source": [
    "Note the reduced size of the dataset features, from 10 to 6. This can sometimes lead to underfitting models -- not having enough features to build a good model able to capture the pattern in the dataset, especially when dropping features that are essential to the task at hand. "
   ]
  },
  {
   "cell_type": "markdown",
   "metadata": {},
   "source": [
    "### 5.2 <a name=\"52\">Drop rows with missing values</a>\n",
    "(<a href=\"#5\">Go to Handling Missing Values</a>)\n",
    "\n",
    "Here, we simply drop rows that have at least one missing value. There are other drop options to explore, depending on specific problems."
   ]
  },
  {
   "cell_type": "code",
   "execution_count": 35,
   "metadata": {},
   "outputs": [],
   "source": [
    "df_missing_dropped = df.dropna()"
   ]
  },
  {
   "cell_type": "markdown",
   "metadata": {},
   "source": [
    "Let's check the missing values below."
   ]
  },
  {
   "cell_type": "code",
   "execution_count": 36,
   "metadata": {},
   "outputs": [
    {
     "data": {
      "text/plain": [
       "ASIN                                 0\n",
       "target_label                         0\n",
       "ASIN_STATIC_ITEM_NAME                0\n",
       "ASIN_STATIC_PRODUCT_DESCRIPTION      0\n",
       "ASIN_STATIC_GL_PRODUCT_GROUP_TYPE    0\n",
       "ASIN_STATIC_ITEM_PACKAGE_WEIGHT      0\n",
       "ASIN_STATIC_LIST_PRICE               0\n",
       "ASIN_STATIC_BATTERIES_INCLUDED       0\n",
       "ASIN_STATIC_BATTERIES_REQUIRED       0\n",
       "ASIN_STATIC_ITEM_CLASSIFICATION      0\n",
       "dtype: int64"
      ]
     },
     "execution_count": 36,
     "metadata": {},
     "output_type": "execute_result"
    }
   ],
   "source": [
    "df_missing_dropped.isna().sum()"
   ]
  },
  {
   "cell_type": "code",
   "execution_count": 37,
   "metadata": {},
   "outputs": [
    {
     "data": {
      "text/plain": [
       "(18190, 10)"
      ]
     },
     "execution_count": 37,
     "metadata": {},
     "output_type": "execute_result"
    }
   ],
   "source": [
    "df_missing_dropped.shape"
   ]
  },
  {
   "cell_type": "markdown",
   "metadata": {},
   "source": [
    "The number of data samples reduced dramatically. This can sometimes lead to overfitting models -- especially when the number of features is greater or comparable to the number of data samples. "
   ]
  },
  {
   "cell_type": "markdown",
   "metadata": {},
   "source": [
    "### 5.3 <a name=\"53\">Impute missing values with .fillna()</a>\n",
    "(<a href=\"#5\">Go to Handling Missing Values</a>)\n",
    "\n",
    "__Imputing Numerical Values:__ The easiest way to impute numerical values is to get the __average (mean) value__ for the corresponding column and use that as the new value for each missing record in that column. There are other imputations options to explore, depending on specific problems."
   ]
  },
  {
   "cell_type": "code",
   "execution_count": 38,
   "metadata": {},
   "outputs": [
    {
     "name": "stdout",
     "output_type": "stream",
     "text": [
      "ASIN_STATIC_ITEM_PACKAGE_WEIGHT       82\n",
      "ASIN_STATIC_LIST_PRICE             13927\n",
      "dtype: int64\n",
      "ASIN_STATIC_ITEM_PACKAGE_WEIGHT    0\n",
      "ASIN_STATIC_LIST_PRICE             0\n",
      "dtype: int64\n"
     ]
    }
   ],
   "source": [
    "# Impute our two numerical features by using the mean per feature to replace the nans\n",
    "numerical_features = [\"ASIN_STATIC_ITEM_PACKAGE_WEIGHT\", \"ASIN_STATIC_LIST_PRICE\"]\n",
    "\n",
    "# Assign our df to a new df \n",
    "df_imputed = df.copy()\n",
    "print(df_imputed[numerical_features].isna().sum())\n",
    "\n",
    "# Impute our two numerical features with the means. \n",
    "df_imputed[numerical_features] = df_imputed[numerical_features].fillna(df_imputed[numerical_features].mean())\n",
    "\n",
    "print(df_imputed[numerical_features].isna().sum())"
   ]
  },
  {
   "cell_type": "markdown",
   "metadata": {},
   "source": [
    "__Imputing Categorical Values:__ We can impute categorical values by getting the most common (mode) value for the corresponding column and use that as the new value for each missing record in that column. "
   ]
  },
  {
   "cell_type": "code",
   "execution_count": 39,
   "metadata": {},
   "outputs": [
    {
     "name": "stdout",
     "output_type": "stream",
     "text": [
      "ASIN_STATIC_BATTERIES_INCLUDED    10093\n",
      "ASIN_STATIC_BATTERIES_REQUIRED    14421\n",
      "dtype: int64\n",
      "  ASIN_STATIC_BATTERIES_INCLUDED ASIN_STATIC_BATTERIES_REQUIRED\n",
      "0                          False                          False\n",
      "ASIN_STATIC_BATTERIES_INCLUDED    0\n",
      "ASIN_STATIC_BATTERIES_REQUIRED    0\n",
      "dtype: int64\n"
     ]
    }
   ],
   "source": [
    "# Impute two categorical features by using the mode per feature to replace the nans\n",
    "categorical_features_0 = [\"ASIN_STATIC_BATTERIES_INCLUDED\", \"ASIN_STATIC_BATTERIES_REQUIRED\"]\n",
    "\n",
    "# Assign our df to a new df \n",
    "df_imputed_c = df.copy()\n",
    "print(df_imputed_c[categorical_features_0].isna().sum())\n",
    "\n",
    "# Find the mode per each feature\n",
    "mode_impute = df_imputed_c[categorical_features_0].mode()\n",
    "print(mode_impute)\n",
    "\n",
    "# Impute our two categorical features with the computed. \n",
    "# \"inplace=True\" parameter replaces missing values in place (no need for left handside assignment)\n",
    "df_imputed_c[\"ASIN_STATIC_BATTERIES_INCLUDED\"].fillna(False, inplace = True)\n",
    "df_imputed_c[\"ASIN_STATIC_BATTERIES_REQUIRED\"].fillna(False, inplace = True)\n",
    "\n",
    "print(df_imputed_c[categorical_features_0].isna().sum())"
   ]
  },
  {
   "cell_type": "markdown",
   "metadata": {},
   "source": [
    "We can also create a new category, such as \"Missing\", for selected categorical features."
   ]
  },
  {
   "cell_type": "code",
   "execution_count": 40,
   "metadata": {},
   "outputs": [
    {
     "name": "stdout",
     "output_type": "stream",
     "text": [
      "ASIN_STATIC_BATTERIES_INCLUDED     10093\n",
      "ASIN_STATIC_BATTERIES_REQUIRED     14421\n",
      "ASIN_STATIC_PRODUCT_DESCRIPTION    23382\n",
      "ASIN_STATIC_ITEM_CLASSIFICATION       12\n",
      "dtype: int64\n",
      "ASIN_STATIC_BATTERIES_INCLUDED     0\n",
      "ASIN_STATIC_BATTERIES_REQUIRED     0\n",
      "ASIN_STATIC_PRODUCT_DESCRIPTION    0\n",
      "ASIN_STATIC_ITEM_CLASSIFICATION    0\n",
      "dtype: int64\n"
     ]
    }
   ],
   "source": [
    "# Impute two categorical features by using the mode per feature to replace the nans\n",
    "categorical_features = [\"ASIN_STATIC_BATTERIES_INCLUDED\", \n",
    "                  \"ASIN_STATIC_BATTERIES_REQUIRED\",\n",
    "                  \"ASIN_STATIC_PRODUCT_DESCRIPTION\", \n",
    "                  \"ASIN_STATIC_ITEM_CLASSIFICATION\"]\n",
    "\n",
    "print(df_imputed[categorical_features].isna().sum())\n",
    "\n",
    "# Impute our categorical features with a new category named \"Missing\". \n",
    "df_imputed[categorical_features] = df_imputed[categorical_features].fillna(\"Missing\")\n",
    "\n",
    "print(df_imputed[categorical_features].isna().sum())\n"
   ]
  },
  {
   "cell_type": "markdown",
   "metadata": {},
   "source": [
    "Let's check again on missing values."
   ]
  },
  {
   "cell_type": "code",
   "execution_count": 41,
   "metadata": {
    "scrolled": true
   },
   "outputs": [
    {
     "data": {
      "text/plain": [
       "ASIN                                 0\n",
       "target_label                         0\n",
       "ASIN_STATIC_ITEM_NAME                0\n",
       "ASIN_STATIC_PRODUCT_DESCRIPTION      0\n",
       "ASIN_STATIC_GL_PRODUCT_GROUP_TYPE    0\n",
       "ASIN_STATIC_ITEM_PACKAGE_WEIGHT      0\n",
       "ASIN_STATIC_LIST_PRICE               0\n",
       "ASIN_STATIC_BATTERIES_INCLUDED       0\n",
       "ASIN_STATIC_BATTERIES_REQUIRED       0\n",
       "ASIN_STATIC_ITEM_CLASSIFICATION      0\n",
       "dtype: int64"
      ]
     },
     "execution_count": 41,
     "metadata": {},
     "output_type": "execute_result"
    }
   ],
   "source": [
    "df_imputed.isna().sum()"
   ]
  },
  {
   "cell_type": "markdown",
   "metadata": {},
   "source": [
    "### 5.4 <a name=\"54\">Impute missing values with sklearn's __SimpleImputer__</a> (Preferred)\n",
    "(<a href=\"#5\">Go to Handling Missing Values</a>)\n",
    "\n",
    "A more elegant way to implement imputation is leveraging data preprocessing tools from [sklearn](https://scikit-learn.org/stable/), a popular Machine Learning library. Let's use the [SimpleImputer](https://scikit-learn.org/stable/modules/generated/sklearn.impute.SimpleImputer.html) from sklearn, a class implementing __.fit()__ and __.transform()__ methods.\n"
   ]
  },
  {
   "cell_type": "code",
   "execution_count": 42,
   "metadata": {},
   "outputs": [
    {
     "name": "stdout",
     "output_type": "stream",
     "text": [
      "ASIN_STATIC_ITEM_PACKAGE_WEIGHT       82\n",
      "ASIN_STATIC_LIST_PRICE             13927\n",
      "dtype: int64\n",
      "ASIN_STATIC_ITEM_PACKAGE_WEIGHT    0\n",
      "ASIN_STATIC_LIST_PRICE             0\n",
      "dtype: int64\n"
     ]
    }
   ],
   "source": [
    "# Impute our two numerical columns by using the mean per column to replace the nans\n",
    "numerical_features = [\"ASIN_STATIC_ITEM_PACKAGE_WEIGHT\", \"ASIN_STATIC_LIST_PRICE\"]\n",
    "\n",
    "from sklearn.impute import SimpleImputer\n",
    "\n",
    "# Assign our df to a new df\n",
    "df_sklearn_imputed = df.copy()\n",
    "print(df_sklearn_imputed[numerical_features].isna().sum())\n",
    "\n",
    "imputer = SimpleImputer(strategy='mean')\n",
    "df_sklearn_imputed[numerical_features] = imputer.fit_transform(df_sklearn_imputed[numerical_features])\n",
    "\n",
    "print(df_sklearn_imputed[numerical_features].isna().sum())"
   ]
  },
  {
   "cell_type": "code",
   "execution_count": 43,
   "metadata": {},
   "outputs": [
    {
     "name": "stdout",
     "output_type": "stream",
     "text": [
      "ASIN_STATIC_BATTERIES_INCLUDED    10093\n",
      "ASIN_STATIC_BATTERIES_REQUIRED    14421\n",
      "dtype: int64\n",
      "ASIN_STATIC_BATTERIES_INCLUDED    0\n",
      "ASIN_STATIC_BATTERIES_REQUIRED    0\n",
      "dtype: int64\n"
     ]
    }
   ],
   "source": [
    "# Impute two categorical columns by using the mode per column to replace the nans\n",
    "categorical_features_0 = [\"ASIN_STATIC_BATTERIES_INCLUDED\", \"ASIN_STATIC_BATTERIES_REQUIRED\"]\n",
    "\n",
    "from sklearn.impute import SimpleImputer\n",
    "\n",
    "# Assign our df to a new df\n",
    "df_sklearn_imputer = df.copy()\n",
    "print(df_sklearn_imputer[categorical_features_0].isna().sum())\n",
    "\n",
    "imputer = SimpleImputer(strategy='most_frequent')\n",
    "df_sklearn_imputer[categorical_features_0] = imputer.fit_transform(df_sklearn_imputer[categorical_features_0])\n",
    "\n",
    "print(df_sklearn_imputer[categorical_features_0].isna().sum())"
   ]
  },
  {
   "cell_type": "code",
   "execution_count": 44,
   "metadata": {},
   "outputs": [
    {
     "name": "stdout",
     "output_type": "stream",
     "text": [
      "ASIN_STATIC_BATTERIES_INCLUDED     10093\n",
      "ASIN_STATIC_BATTERIES_REQUIRED     14421\n",
      "ASIN_STATIC_PRODUCT_DESCRIPTION    23382\n",
      "ASIN_STATIC_ITEM_CLASSIFICATION       12\n",
      "dtype: int64\n",
      "ASIN_STATIC_BATTERIES_INCLUDED     0\n",
      "ASIN_STATIC_BATTERIES_REQUIRED     0\n",
      "ASIN_STATIC_PRODUCT_DESCRIPTION    0\n",
      "ASIN_STATIC_ITEM_CLASSIFICATION    0\n",
      "dtype: int64\n"
     ]
    }
   ],
   "source": [
    "# Impute categorical columns by using a placeholder \"Missing\"\n",
    "categorical_features = [\"ASIN_STATIC_BATTERIES_INCLUDED\", \n",
    "                  \"ASIN_STATIC_BATTERIES_REQUIRED\",\n",
    "                  \"ASIN_STATIC_PRODUCT_DESCRIPTION\", \n",
    "                  \"ASIN_STATIC_ITEM_CLASSIFICATION\"]\n",
    "\n",
    "from sklearn.impute import SimpleImputer\n",
    "\n",
    "# Assign our df to a new df\n",
    "df_sklearn_imputer = df.copy()\n",
    "print(df_sklearn_imputer[categorical_features].isna().sum())\n",
    "\n",
    "imputer = SimpleImputer(strategy='constant', fill_value = \"Missing\")\n",
    "df_sklearn_imputer[categorical_features] = imputer.fit_transform(df_sklearn_imputer[categorical_features])\n",
    "\n",
    "print(df_sklearn_imputer[categorical_features].isna().sum())"
   ]
  }
 ],
 "metadata": {
  "kernelspec": {
   "display_name": "conda_pytorch_p310",
   "language": "python",
   "name": "conda_pytorch_p310"
  },
  "language_info": {
   "codemirror_mode": {
    "name": "ipython",
    "version": 3
   },
   "file_extension": ".py",
   "mimetype": "text/x-python",
   "name": "python",
   "nbconvert_exporter": "python",
   "pygments_lexer": "ipython3",
   "version": "3.10.10"
  }
 },
 "nbformat": 4,
 "nbformat_minor": 4
}
